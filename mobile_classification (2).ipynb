{
 "cells": [
  {
   "cell_type": "code",
   "execution_count": 31,
   "id": "b41bd458",
   "metadata": {},
   "outputs": [],
   "source": [
    "import numpy as np\n",
    "import pandas as pd\n",
    "import matplotlib.pyplot as plt\n",
    "import seaborn as sns"
   ]
  },
  {
   "cell_type": "code",
   "execution_count": 32,
   "id": "526ef629",
   "metadata": {},
   "outputs": [],
   "source": [
    "\n",
    "df=pd.read_csv(\"C:\\\\Users\\\\Admin\\Downloads\\\\archive (21)\\\\20191226-reviews.csv\")"
   ]
  },
  {
   "cell_type": "code",
   "execution_count": 33,
   "id": "f477faf9",
   "metadata": {},
   "outputs": [
    {
     "data": {
      "text/html": [
       "<div>\n",
       "<style scoped>\n",
       "    .dataframe tbody tr th:only-of-type {\n",
       "        vertical-align: middle;\n",
       "    }\n",
       "\n",
       "    .dataframe tbody tr th {\n",
       "        vertical-align: top;\n",
       "    }\n",
       "\n",
       "    .dataframe thead th {\n",
       "        text-align: right;\n",
       "    }\n",
       "</style>\n",
       "<table border=\"1\" class=\"dataframe\">\n",
       "  <thead>\n",
       "    <tr style=\"text-align: right;\">\n",
       "      <th></th>\n",
       "      <th>asin</th>\n",
       "      <th>name</th>\n",
       "      <th>rating</th>\n",
       "      <th>date</th>\n",
       "      <th>verified</th>\n",
       "      <th>title</th>\n",
       "      <th>body</th>\n",
       "      <th>helpfulVotes</th>\n",
       "    </tr>\n",
       "  </thead>\n",
       "  <tbody>\n",
       "    <tr>\n",
       "      <th>0</th>\n",
       "      <td>B0000SX2UC</td>\n",
       "      <td>Janet</td>\n",
       "      <td>3</td>\n",
       "      <td>October 11, 2005</td>\n",
       "      <td>False</td>\n",
       "      <td>Def not best, but not worst</td>\n",
       "      <td>I had the Samsung A600 for awhile which is abs...</td>\n",
       "      <td>1.0</td>\n",
       "    </tr>\n",
       "    <tr>\n",
       "      <th>1</th>\n",
       "      <td>B0000SX2UC</td>\n",
       "      <td>Luke Wyatt</td>\n",
       "      <td>1</td>\n",
       "      <td>January 7, 2004</td>\n",
       "      <td>False</td>\n",
       "      <td>Text Messaging Doesn't Work</td>\n",
       "      <td>Due to a software issue between Nokia and Spri...</td>\n",
       "      <td>17.0</td>\n",
       "    </tr>\n",
       "    <tr>\n",
       "      <th>2</th>\n",
       "      <td>B0000SX2UC</td>\n",
       "      <td>Brooke</td>\n",
       "      <td>5</td>\n",
       "      <td>December 30, 2003</td>\n",
       "      <td>False</td>\n",
       "      <td>Love This Phone</td>\n",
       "      <td>This is a great, reliable phone. I also purcha...</td>\n",
       "      <td>5.0</td>\n",
       "    </tr>\n",
       "    <tr>\n",
       "      <th>3</th>\n",
       "      <td>B0000SX2UC</td>\n",
       "      <td>amy m. teague</td>\n",
       "      <td>3</td>\n",
       "      <td>March 18, 2004</td>\n",
       "      <td>False</td>\n",
       "      <td>Love the Phone, BUT...!</td>\n",
       "      <td>I love the phone and all, because I really did...</td>\n",
       "      <td>1.0</td>\n",
       "    </tr>\n",
       "    <tr>\n",
       "      <th>4</th>\n",
       "      <td>B0000SX2UC</td>\n",
       "      <td>tristazbimmer</td>\n",
       "      <td>4</td>\n",
       "      <td>August 28, 2005</td>\n",
       "      <td>False</td>\n",
       "      <td>Great phone service and options, lousy case!</td>\n",
       "      <td>The phone has been great for every purpose it ...</td>\n",
       "      <td>1.0</td>\n",
       "    </tr>\n",
       "    <tr>\n",
       "      <th>...</th>\n",
       "      <td>...</td>\n",
       "      <td>...</td>\n",
       "      <td>...</td>\n",
       "      <td>...</td>\n",
       "      <td>...</td>\n",
       "      <td>...</td>\n",
       "      <td>...</td>\n",
       "      <td>...</td>\n",
       "    </tr>\n",
       "    <tr>\n",
       "      <th>67981</th>\n",
       "      <td>B081H6STQQ</td>\n",
       "      <td>jande</td>\n",
       "      <td>5</td>\n",
       "      <td>August 16, 2019</td>\n",
       "      <td>False</td>\n",
       "      <td>Awesome Phone, but finger scanner is a big mis...</td>\n",
       "      <td>I love the camera on this phone. The screen is...</td>\n",
       "      <td>1.0</td>\n",
       "    </tr>\n",
       "    <tr>\n",
       "      <th>67982</th>\n",
       "      <td>B081H6STQQ</td>\n",
       "      <td>2cool4u</td>\n",
       "      <td>5</td>\n",
       "      <td>September 14, 2019</td>\n",
       "      <td>False</td>\n",
       "      <td>Simply Amazing!</td>\n",
       "      <td>I've been an Xperia user for several years and...</td>\n",
       "      <td>1.0</td>\n",
       "    </tr>\n",
       "    <tr>\n",
       "      <th>67983</th>\n",
       "      <td>B081H6STQQ</td>\n",
       "      <td>simon</td>\n",
       "      <td>5</td>\n",
       "      <td>July 14, 2019</td>\n",
       "      <td>False</td>\n",
       "      <td>great phon3, but many bugs need to fix. still ...</td>\n",
       "      <td>buy one more for my cousin</td>\n",
       "      <td>NaN</td>\n",
       "    </tr>\n",
       "    <tr>\n",
       "      <th>67984</th>\n",
       "      <td>B081TJFVCJ</td>\n",
       "      <td>Tobiasz Jedrysiak</td>\n",
       "      <td>5</td>\n",
       "      <td>December 24, 2019</td>\n",
       "      <td>True</td>\n",
       "      <td>Phone is like new</td>\n",
       "      <td>Product looks and works like new. Very much re...</td>\n",
       "      <td>NaN</td>\n",
       "    </tr>\n",
       "    <tr>\n",
       "      <th>67985</th>\n",
       "      <td>B0825BB7SG</td>\n",
       "      <td>Owen Gonzalez</td>\n",
       "      <td>5</td>\n",
       "      <td>December 11, 2019</td>\n",
       "      <td>False</td>\n",
       "      <td>Outstanding phone for the price</td>\n",
       "      <td>I love the size and style of this phone. It is...</td>\n",
       "      <td>NaN</td>\n",
       "    </tr>\n",
       "  </tbody>\n",
       "</table>\n",
       "<p>67986 rows × 8 columns</p>\n",
       "</div>"
      ],
      "text/plain": [
       "             asin               name  rating                date  verified  \\\n",
       "0      B0000SX2UC              Janet       3    October 11, 2005     False   \n",
       "1      B0000SX2UC         Luke Wyatt       1     January 7, 2004     False   \n",
       "2      B0000SX2UC             Brooke       5   December 30, 2003     False   \n",
       "3      B0000SX2UC      amy m. teague       3      March 18, 2004     False   \n",
       "4      B0000SX2UC      tristazbimmer       4     August 28, 2005     False   \n",
       "...           ...                ...     ...                 ...       ...   \n",
       "67981  B081H6STQQ              jande       5     August 16, 2019     False   \n",
       "67982  B081H6STQQ            2cool4u       5  September 14, 2019     False   \n",
       "67983  B081H6STQQ              simon       5       July 14, 2019     False   \n",
       "67984  B081TJFVCJ  Tobiasz Jedrysiak       5   December 24, 2019      True   \n",
       "67985  B0825BB7SG      Owen Gonzalez       5   December 11, 2019     False   \n",
       "\n",
       "                                                   title  \\\n",
       "0                            Def not best, but not worst   \n",
       "1                            Text Messaging Doesn't Work   \n",
       "2                                        Love This Phone   \n",
       "3                                Love the Phone, BUT...!   \n",
       "4           Great phone service and options, lousy case!   \n",
       "...                                                  ...   \n",
       "67981  Awesome Phone, but finger scanner is a big mis...   \n",
       "67982                                    Simply Amazing!   \n",
       "67983  great phon3, but many bugs need to fix. still ...   \n",
       "67984                                  Phone is like new   \n",
       "67985                    Outstanding phone for the price   \n",
       "\n",
       "                                                    body  helpfulVotes  \n",
       "0      I had the Samsung A600 for awhile which is abs...           1.0  \n",
       "1      Due to a software issue between Nokia and Spri...          17.0  \n",
       "2      This is a great, reliable phone. I also purcha...           5.0  \n",
       "3      I love the phone and all, because I really did...           1.0  \n",
       "4      The phone has been great for every purpose it ...           1.0  \n",
       "...                                                  ...           ...  \n",
       "67981  I love the camera on this phone. The screen is...           1.0  \n",
       "67982  I've been an Xperia user for several years and...           1.0  \n",
       "67983                         buy one more for my cousin           NaN  \n",
       "67984  Product looks and works like new. Very much re...           NaN  \n",
       "67985  I love the size and style of this phone. It is...           NaN  \n",
       "\n",
       "[67986 rows x 8 columns]"
      ]
     },
     "execution_count": 33,
     "metadata": {},
     "output_type": "execute_result"
    }
   ],
   "source": [
    "df"
   ]
  },
  {
   "cell_type": "code",
   "execution_count": 82,
   "id": "33ddfda4",
   "metadata": {},
   "outputs": [],
   "source": [
    "df=df.drop('helpfulVotes',axis=1)"
   ]
  },
  {
   "cell_type": "code",
   "execution_count": 83,
   "id": "9bba64e1",
   "metadata": {},
   "outputs": [],
   "source": [
    "df=df.replace(to_replace=1,\n",
    "           value=\"Negative\")"
   ]
  },
  {
   "cell_type": "code",
   "execution_count": 84,
   "id": "003ec5e3",
   "metadata": {},
   "outputs": [
    {
     "data": {
      "text/html": [
       "<div>\n",
       "<style scoped>\n",
       "    .dataframe tbody tr th:only-of-type {\n",
       "        vertical-align: middle;\n",
       "    }\n",
       "\n",
       "    .dataframe tbody tr th {\n",
       "        vertical-align: top;\n",
       "    }\n",
       "\n",
       "    .dataframe thead th {\n",
       "        text-align: right;\n",
       "    }\n",
       "</style>\n",
       "<table border=\"1\" class=\"dataframe\">\n",
       "  <thead>\n",
       "    <tr style=\"text-align: right;\">\n",
       "      <th></th>\n",
       "      <th>asin</th>\n",
       "      <th>name</th>\n",
       "      <th>rating</th>\n",
       "      <th>date</th>\n",
       "      <th>verified</th>\n",
       "      <th>title</th>\n",
       "      <th>body</th>\n",
       "    </tr>\n",
       "  </thead>\n",
       "  <tbody>\n",
       "    <tr>\n",
       "      <th>0</th>\n",
       "      <td>B0000SX2UC</td>\n",
       "      <td>Janet</td>\n",
       "      <td>Neutral</td>\n",
       "      <td>October 11, 2005</td>\n",
       "      <td>False</td>\n",
       "      <td>Def not best, but not worst</td>\n",
       "      <td>I had the Samsung A600 for awhile which is abs...</td>\n",
       "    </tr>\n",
       "    <tr>\n",
       "      <th>1</th>\n",
       "      <td>B0000SX2UC</td>\n",
       "      <td>Luke Wyatt</td>\n",
       "      <td>Negative</td>\n",
       "      <td>January 7, 2004</td>\n",
       "      <td>False</td>\n",
       "      <td>Text Messaging Doesn't Work</td>\n",
       "      <td>Due to a software issue between Nokia and Spri...</td>\n",
       "    </tr>\n",
       "    <tr>\n",
       "      <th>2</th>\n",
       "      <td>B0000SX2UC</td>\n",
       "      <td>Brooke</td>\n",
       "      <td>Positive</td>\n",
       "      <td>December 30, 2003</td>\n",
       "      <td>False</td>\n",
       "      <td>Love This Phone</td>\n",
       "      <td>This is a great, reliable phone. I also purcha...</td>\n",
       "    </tr>\n",
       "    <tr>\n",
       "      <th>3</th>\n",
       "      <td>B0000SX2UC</td>\n",
       "      <td>amy m. teague</td>\n",
       "      <td>Neutral</td>\n",
       "      <td>March 18, 2004</td>\n",
       "      <td>False</td>\n",
       "      <td>Love the Phone, BUT...!</td>\n",
       "      <td>I love the phone and all, because I really did...</td>\n",
       "    </tr>\n",
       "    <tr>\n",
       "      <th>4</th>\n",
       "      <td>B0000SX2UC</td>\n",
       "      <td>tristazbimmer</td>\n",
       "      <td>Positive</td>\n",
       "      <td>August 28, 2005</td>\n",
       "      <td>False</td>\n",
       "      <td>Great phone service and options, lousy case!</td>\n",
       "      <td>The phone has been great for every purpose it ...</td>\n",
       "    </tr>\n",
       "    <tr>\n",
       "      <th>...</th>\n",
       "      <td>...</td>\n",
       "      <td>...</td>\n",
       "      <td>...</td>\n",
       "      <td>...</td>\n",
       "      <td>...</td>\n",
       "      <td>...</td>\n",
       "      <td>...</td>\n",
       "    </tr>\n",
       "    <tr>\n",
       "      <th>67978</th>\n",
       "      <td>B081H6STQQ</td>\n",
       "      <td>Rock Edge</td>\n",
       "      <td>Positive</td>\n",
       "      <td>July 16, 2019</td>\n",
       "      <td>False</td>\n",
       "      <td>Candy bar phone is back!</td>\n",
       "      <td>Update 8/14/19 5 stars now! I've been using th...</td>\n",
       "    </tr>\n",
       "    <tr>\n",
       "      <th>67979</th>\n",
       "      <td>B081H6STQQ</td>\n",
       "      <td>Cindy Cowles</td>\n",
       "      <td>Neutral</td>\n",
       "      <td>July 17, 2019</td>\n",
       "      <td>False</td>\n",
       "      <td>Updated review</td>\n",
       "      <td>Update: If you like sending and receiving pict...</td>\n",
       "    </tr>\n",
       "    <tr>\n",
       "      <th>67980</th>\n",
       "      <td>B081H6STQQ</td>\n",
       "      <td>Los Kositos</td>\n",
       "      <td>Positive</td>\n",
       "      <td>October 7, 2019</td>\n",
       "      <td>False</td>\n",
       "      <td>From iPhone to Android and loving it</td>\n",
       "      <td>I love my new phone. I've been dying to do a r...</td>\n",
       "    </tr>\n",
       "    <tr>\n",
       "      <th>67981</th>\n",
       "      <td>B081H6STQQ</td>\n",
       "      <td>jande</td>\n",
       "      <td>Positive</td>\n",
       "      <td>August 16, 2019</td>\n",
       "      <td>False</td>\n",
       "      <td>Awesome Phone, but finger scanner is a big mis...</td>\n",
       "      <td>I love the camera on this phone. The screen is...</td>\n",
       "    </tr>\n",
       "    <tr>\n",
       "      <th>67982</th>\n",
       "      <td>B081H6STQQ</td>\n",
       "      <td>2cool4u</td>\n",
       "      <td>Positive</td>\n",
       "      <td>September 14, 2019</td>\n",
       "      <td>False</td>\n",
       "      <td>Simply Amazing!</td>\n",
       "      <td>I've been an Xperia user for several years and...</td>\n",
       "    </tr>\n",
       "  </tbody>\n",
       "</table>\n",
       "<p>27206 rows × 7 columns</p>\n",
       "</div>"
      ],
      "text/plain": [
       "             asin           name    rating                date  verified  \\\n",
       "0      B0000SX2UC          Janet   Neutral    October 11, 2005     False   \n",
       "1      B0000SX2UC     Luke Wyatt  Negative     January 7, 2004     False   \n",
       "2      B0000SX2UC         Brooke  Positive   December 30, 2003     False   \n",
       "3      B0000SX2UC  amy m. teague   Neutral      March 18, 2004     False   \n",
       "4      B0000SX2UC  tristazbimmer  Positive     August 28, 2005     False   \n",
       "...           ...            ...       ...                 ...       ...   \n",
       "67978  B081H6STQQ      Rock Edge  Positive       July 16, 2019     False   \n",
       "67979  B081H6STQQ   Cindy Cowles   Neutral       July 17, 2019     False   \n",
       "67980  B081H6STQQ    Los Kositos  Positive     October 7, 2019     False   \n",
       "67981  B081H6STQQ          jande  Positive     August 16, 2019     False   \n",
       "67982  B081H6STQQ        2cool4u  Positive  September 14, 2019     False   \n",
       "\n",
       "                                                   title  \\\n",
       "0                            Def not best, but not worst   \n",
       "1                            Text Messaging Doesn't Work   \n",
       "2                                        Love This Phone   \n",
       "3                                Love the Phone, BUT...!   \n",
       "4           Great phone service and options, lousy case!   \n",
       "...                                                  ...   \n",
       "67978                           Candy bar phone is back!   \n",
       "67979                                     Updated review   \n",
       "67980               From iPhone to Android and loving it   \n",
       "67981  Awesome Phone, but finger scanner is a big mis...   \n",
       "67982                                    Simply Amazing!   \n",
       "\n",
       "                                                    body  \n",
       "0      I had the Samsung A600 for awhile which is abs...  \n",
       "1      Due to a software issue between Nokia and Spri...  \n",
       "2      This is a great, reliable phone. I also purcha...  \n",
       "3      I love the phone and all, because I really did...  \n",
       "4      The phone has been great for every purpose it ...  \n",
       "...                                                  ...  \n",
       "67978  Update 8/14/19 5 stars now! I've been using th...  \n",
       "67979  Update: If you like sending and receiving pict...  \n",
       "67980  I love my new phone. I've been dying to do a r...  \n",
       "67981  I love the camera on this phone. The screen is...  \n",
       "67982  I've been an Xperia user for several years and...  \n",
       "\n",
       "[27206 rows x 7 columns]"
      ]
     },
     "execution_count": 84,
     "metadata": {},
     "output_type": "execute_result"
    }
   ],
   "source": [
    "df"
   ]
  },
  {
   "cell_type": "code",
   "execution_count": 36,
   "id": "ba27cc2c",
   "metadata": {},
   "outputs": [],
   "source": [
    "df=df.replace(to_replace=4,\n",
    "           value=\"Positive\")"
   ]
  },
  {
   "cell_type": "code",
   "execution_count": 37,
   "id": "69d78cbe",
   "metadata": {},
   "outputs": [
    {
     "data": {
      "text/html": [
       "<div>\n",
       "<style scoped>\n",
       "    .dataframe tbody tr th:only-of-type {\n",
       "        vertical-align: middle;\n",
       "    }\n",
       "\n",
       "    .dataframe tbody tr th {\n",
       "        vertical-align: top;\n",
       "    }\n",
       "\n",
       "    .dataframe thead th {\n",
       "        text-align: right;\n",
       "    }\n",
       "</style>\n",
       "<table border=\"1\" class=\"dataframe\">\n",
       "  <thead>\n",
       "    <tr style=\"text-align: right;\">\n",
       "      <th></th>\n",
       "      <th>asin</th>\n",
       "      <th>name</th>\n",
       "      <th>rating</th>\n",
       "      <th>date</th>\n",
       "      <th>verified</th>\n",
       "      <th>title</th>\n",
       "      <th>body</th>\n",
       "      <th>helpfulVotes</th>\n",
       "    </tr>\n",
       "  </thead>\n",
       "  <tbody>\n",
       "    <tr>\n",
       "      <th>0</th>\n",
       "      <td>B0000SX2UC</td>\n",
       "      <td>Janet</td>\n",
       "      <td>3</td>\n",
       "      <td>October 11, 2005</td>\n",
       "      <td>False</td>\n",
       "      <td>Def not best, but not worst</td>\n",
       "      <td>I had the Samsung A600 for awhile which is abs...</td>\n",
       "      <td>Negative</td>\n",
       "    </tr>\n",
       "    <tr>\n",
       "      <th>1</th>\n",
       "      <td>B0000SX2UC</td>\n",
       "      <td>Luke Wyatt</td>\n",
       "      <td>Negative</td>\n",
       "      <td>January 7, 2004</td>\n",
       "      <td>False</td>\n",
       "      <td>Text Messaging Doesn't Work</td>\n",
       "      <td>Due to a software issue between Nokia and Spri...</td>\n",
       "      <td>17.0</td>\n",
       "    </tr>\n",
       "    <tr>\n",
       "      <th>2</th>\n",
       "      <td>B0000SX2UC</td>\n",
       "      <td>Brooke</td>\n",
       "      <td>5</td>\n",
       "      <td>December 30, 2003</td>\n",
       "      <td>False</td>\n",
       "      <td>Love This Phone</td>\n",
       "      <td>This is a great, reliable phone. I also purcha...</td>\n",
       "      <td>5.0</td>\n",
       "    </tr>\n",
       "    <tr>\n",
       "      <th>3</th>\n",
       "      <td>B0000SX2UC</td>\n",
       "      <td>amy m. teague</td>\n",
       "      <td>3</td>\n",
       "      <td>March 18, 2004</td>\n",
       "      <td>False</td>\n",
       "      <td>Love the Phone, BUT...!</td>\n",
       "      <td>I love the phone and all, because I really did...</td>\n",
       "      <td>Negative</td>\n",
       "    </tr>\n",
       "    <tr>\n",
       "      <th>4</th>\n",
       "      <td>B0000SX2UC</td>\n",
       "      <td>tristazbimmer</td>\n",
       "      <td>Positive</td>\n",
       "      <td>August 28, 2005</td>\n",
       "      <td>False</td>\n",
       "      <td>Great phone service and options, lousy case!</td>\n",
       "      <td>The phone has been great for every purpose it ...</td>\n",
       "      <td>Negative</td>\n",
       "    </tr>\n",
       "    <tr>\n",
       "      <th>...</th>\n",
       "      <td>...</td>\n",
       "      <td>...</td>\n",
       "      <td>...</td>\n",
       "      <td>...</td>\n",
       "      <td>...</td>\n",
       "      <td>...</td>\n",
       "      <td>...</td>\n",
       "      <td>...</td>\n",
       "    </tr>\n",
       "    <tr>\n",
       "      <th>67981</th>\n",
       "      <td>B081H6STQQ</td>\n",
       "      <td>jande</td>\n",
       "      <td>5</td>\n",
       "      <td>August 16, 2019</td>\n",
       "      <td>False</td>\n",
       "      <td>Awesome Phone, but finger scanner is a big mis...</td>\n",
       "      <td>I love the camera on this phone. The screen is...</td>\n",
       "      <td>Negative</td>\n",
       "    </tr>\n",
       "    <tr>\n",
       "      <th>67982</th>\n",
       "      <td>B081H6STQQ</td>\n",
       "      <td>2cool4u</td>\n",
       "      <td>5</td>\n",
       "      <td>September 14, 2019</td>\n",
       "      <td>False</td>\n",
       "      <td>Simply Amazing!</td>\n",
       "      <td>I've been an Xperia user for several years and...</td>\n",
       "      <td>Negative</td>\n",
       "    </tr>\n",
       "    <tr>\n",
       "      <th>67983</th>\n",
       "      <td>B081H6STQQ</td>\n",
       "      <td>simon</td>\n",
       "      <td>5</td>\n",
       "      <td>July 14, 2019</td>\n",
       "      <td>False</td>\n",
       "      <td>great phon3, but many bugs need to fix. still ...</td>\n",
       "      <td>buy one more for my cousin</td>\n",
       "      <td>NaN</td>\n",
       "    </tr>\n",
       "    <tr>\n",
       "      <th>67984</th>\n",
       "      <td>B081TJFVCJ</td>\n",
       "      <td>Tobiasz Jedrysiak</td>\n",
       "      <td>5</td>\n",
       "      <td>December 24, 2019</td>\n",
       "      <td>True</td>\n",
       "      <td>Phone is like new</td>\n",
       "      <td>Product looks and works like new. Very much re...</td>\n",
       "      <td>NaN</td>\n",
       "    </tr>\n",
       "    <tr>\n",
       "      <th>67985</th>\n",
       "      <td>B0825BB7SG</td>\n",
       "      <td>Owen Gonzalez</td>\n",
       "      <td>5</td>\n",
       "      <td>December 11, 2019</td>\n",
       "      <td>False</td>\n",
       "      <td>Outstanding phone for the price</td>\n",
       "      <td>I love the size and style of this phone. It is...</td>\n",
       "      <td>NaN</td>\n",
       "    </tr>\n",
       "  </tbody>\n",
       "</table>\n",
       "<p>67986 rows × 8 columns</p>\n",
       "</div>"
      ],
      "text/plain": [
       "             asin               name    rating                date  verified  \\\n",
       "0      B0000SX2UC              Janet         3    October 11, 2005     False   \n",
       "1      B0000SX2UC         Luke Wyatt  Negative     January 7, 2004     False   \n",
       "2      B0000SX2UC             Brooke         5   December 30, 2003     False   \n",
       "3      B0000SX2UC      amy m. teague         3      March 18, 2004     False   \n",
       "4      B0000SX2UC      tristazbimmer  Positive     August 28, 2005     False   \n",
       "...           ...                ...       ...                 ...       ...   \n",
       "67981  B081H6STQQ              jande         5     August 16, 2019     False   \n",
       "67982  B081H6STQQ            2cool4u         5  September 14, 2019     False   \n",
       "67983  B081H6STQQ              simon         5       July 14, 2019     False   \n",
       "67984  B081TJFVCJ  Tobiasz Jedrysiak         5   December 24, 2019      True   \n",
       "67985  B0825BB7SG      Owen Gonzalez         5   December 11, 2019     False   \n",
       "\n",
       "                                                   title  \\\n",
       "0                            Def not best, but not worst   \n",
       "1                            Text Messaging Doesn't Work   \n",
       "2                                        Love This Phone   \n",
       "3                                Love the Phone, BUT...!   \n",
       "4           Great phone service and options, lousy case!   \n",
       "...                                                  ...   \n",
       "67981  Awesome Phone, but finger scanner is a big mis...   \n",
       "67982                                    Simply Amazing!   \n",
       "67983  great phon3, but many bugs need to fix. still ...   \n",
       "67984                                  Phone is like new   \n",
       "67985                    Outstanding phone for the price   \n",
       "\n",
       "                                                    body helpfulVotes  \n",
       "0      I had the Samsung A600 for awhile which is abs...     Negative  \n",
       "1      Due to a software issue between Nokia and Spri...         17.0  \n",
       "2      This is a great, reliable phone. I also purcha...          5.0  \n",
       "3      I love the phone and all, because I really did...     Negative  \n",
       "4      The phone has been great for every purpose it ...     Negative  \n",
       "...                                                  ...          ...  \n",
       "67981  I love the camera on this phone. The screen is...     Negative  \n",
       "67982  I've been an Xperia user for several years and...     Negative  \n",
       "67983                         buy one more for my cousin          NaN  \n",
       "67984  Product looks and works like new. Very much re...          NaN  \n",
       "67985  I love the size and style of this phone. It is...          NaN  \n",
       "\n",
       "[67986 rows x 8 columns]"
      ]
     },
     "execution_count": 37,
     "metadata": {},
     "output_type": "execute_result"
    }
   ],
   "source": [
    "df"
   ]
  },
  {
   "cell_type": "code",
   "execution_count": 38,
   "id": "2074f2ac",
   "metadata": {},
   "outputs": [],
   "source": [
    "df=df.replace(to_replace=5,\n",
    "           value=\"Positive\")\n",
    "df=df.replace(to_replace=3,\n",
    "           value=\"Neutral\")\n",
    "df=df.replace(to_replace=2,\n",
    "           value=\"Negative\")"
   ]
  },
  {
   "cell_type": "code",
   "execution_count": 39,
   "id": "31e93421",
   "metadata": {},
   "outputs": [
    {
     "data": {
      "text/html": [
       "<div>\n",
       "<style scoped>\n",
       "    .dataframe tbody tr th:only-of-type {\n",
       "        vertical-align: middle;\n",
       "    }\n",
       "\n",
       "    .dataframe tbody tr th {\n",
       "        vertical-align: top;\n",
       "    }\n",
       "\n",
       "    .dataframe thead th {\n",
       "        text-align: right;\n",
       "    }\n",
       "</style>\n",
       "<table border=\"1\" class=\"dataframe\">\n",
       "  <thead>\n",
       "    <tr style=\"text-align: right;\">\n",
       "      <th></th>\n",
       "      <th>asin</th>\n",
       "      <th>name</th>\n",
       "      <th>rating</th>\n",
       "      <th>date</th>\n",
       "      <th>verified</th>\n",
       "      <th>title</th>\n",
       "      <th>body</th>\n",
       "      <th>helpfulVotes</th>\n",
       "    </tr>\n",
       "  </thead>\n",
       "  <tbody>\n",
       "    <tr>\n",
       "      <th>0</th>\n",
       "      <td>B0000SX2UC</td>\n",
       "      <td>Janet</td>\n",
       "      <td>Neutral</td>\n",
       "      <td>October 11, 2005</td>\n",
       "      <td>False</td>\n",
       "      <td>Def not best, but not worst</td>\n",
       "      <td>I had the Samsung A600 for awhile which is abs...</td>\n",
       "      <td>Negative</td>\n",
       "    </tr>\n",
       "    <tr>\n",
       "      <th>1</th>\n",
       "      <td>B0000SX2UC</td>\n",
       "      <td>Luke Wyatt</td>\n",
       "      <td>Negative</td>\n",
       "      <td>January 7, 2004</td>\n",
       "      <td>False</td>\n",
       "      <td>Text Messaging Doesn't Work</td>\n",
       "      <td>Due to a software issue between Nokia and Spri...</td>\n",
       "      <td>17.0</td>\n",
       "    </tr>\n",
       "    <tr>\n",
       "      <th>2</th>\n",
       "      <td>B0000SX2UC</td>\n",
       "      <td>Brooke</td>\n",
       "      <td>Positive</td>\n",
       "      <td>December 30, 2003</td>\n",
       "      <td>False</td>\n",
       "      <td>Love This Phone</td>\n",
       "      <td>This is a great, reliable phone. I also purcha...</td>\n",
       "      <td>Positive</td>\n",
       "    </tr>\n",
       "    <tr>\n",
       "      <th>3</th>\n",
       "      <td>B0000SX2UC</td>\n",
       "      <td>amy m. teague</td>\n",
       "      <td>Neutral</td>\n",
       "      <td>March 18, 2004</td>\n",
       "      <td>False</td>\n",
       "      <td>Love the Phone, BUT...!</td>\n",
       "      <td>I love the phone and all, because I really did...</td>\n",
       "      <td>Negative</td>\n",
       "    </tr>\n",
       "    <tr>\n",
       "      <th>4</th>\n",
       "      <td>B0000SX2UC</td>\n",
       "      <td>tristazbimmer</td>\n",
       "      <td>Positive</td>\n",
       "      <td>August 28, 2005</td>\n",
       "      <td>False</td>\n",
       "      <td>Great phone service and options, lousy case!</td>\n",
       "      <td>The phone has been great for every purpose it ...</td>\n",
       "      <td>Negative</td>\n",
       "    </tr>\n",
       "    <tr>\n",
       "      <th>...</th>\n",
       "      <td>...</td>\n",
       "      <td>...</td>\n",
       "      <td>...</td>\n",
       "      <td>...</td>\n",
       "      <td>...</td>\n",
       "      <td>...</td>\n",
       "      <td>...</td>\n",
       "      <td>...</td>\n",
       "    </tr>\n",
       "    <tr>\n",
       "      <th>67981</th>\n",
       "      <td>B081H6STQQ</td>\n",
       "      <td>jande</td>\n",
       "      <td>Positive</td>\n",
       "      <td>August 16, 2019</td>\n",
       "      <td>False</td>\n",
       "      <td>Awesome Phone, but finger scanner is a big mis...</td>\n",
       "      <td>I love the camera on this phone. The screen is...</td>\n",
       "      <td>Negative</td>\n",
       "    </tr>\n",
       "    <tr>\n",
       "      <th>67982</th>\n",
       "      <td>B081H6STQQ</td>\n",
       "      <td>2cool4u</td>\n",
       "      <td>Positive</td>\n",
       "      <td>September 14, 2019</td>\n",
       "      <td>False</td>\n",
       "      <td>Simply Amazing!</td>\n",
       "      <td>I've been an Xperia user for several years and...</td>\n",
       "      <td>Negative</td>\n",
       "    </tr>\n",
       "    <tr>\n",
       "      <th>67983</th>\n",
       "      <td>B081H6STQQ</td>\n",
       "      <td>simon</td>\n",
       "      <td>Positive</td>\n",
       "      <td>July 14, 2019</td>\n",
       "      <td>False</td>\n",
       "      <td>great phon3, but many bugs need to fix. still ...</td>\n",
       "      <td>buy one more for my cousin</td>\n",
       "      <td>NaN</td>\n",
       "    </tr>\n",
       "    <tr>\n",
       "      <th>67984</th>\n",
       "      <td>B081TJFVCJ</td>\n",
       "      <td>Tobiasz Jedrysiak</td>\n",
       "      <td>Positive</td>\n",
       "      <td>December 24, 2019</td>\n",
       "      <td>True</td>\n",
       "      <td>Phone is like new</td>\n",
       "      <td>Product looks and works like new. Very much re...</td>\n",
       "      <td>NaN</td>\n",
       "    </tr>\n",
       "    <tr>\n",
       "      <th>67985</th>\n",
       "      <td>B0825BB7SG</td>\n",
       "      <td>Owen Gonzalez</td>\n",
       "      <td>Positive</td>\n",
       "      <td>December 11, 2019</td>\n",
       "      <td>False</td>\n",
       "      <td>Outstanding phone for the price</td>\n",
       "      <td>I love the size and style of this phone. It is...</td>\n",
       "      <td>NaN</td>\n",
       "    </tr>\n",
       "  </tbody>\n",
       "</table>\n",
       "<p>67986 rows × 8 columns</p>\n",
       "</div>"
      ],
      "text/plain": [
       "             asin               name    rating                date  verified  \\\n",
       "0      B0000SX2UC              Janet   Neutral    October 11, 2005     False   \n",
       "1      B0000SX2UC         Luke Wyatt  Negative     January 7, 2004     False   \n",
       "2      B0000SX2UC             Brooke  Positive   December 30, 2003     False   \n",
       "3      B0000SX2UC      amy m. teague   Neutral      March 18, 2004     False   \n",
       "4      B0000SX2UC      tristazbimmer  Positive     August 28, 2005     False   \n",
       "...           ...                ...       ...                 ...       ...   \n",
       "67981  B081H6STQQ              jande  Positive     August 16, 2019     False   \n",
       "67982  B081H6STQQ            2cool4u  Positive  September 14, 2019     False   \n",
       "67983  B081H6STQQ              simon  Positive       July 14, 2019     False   \n",
       "67984  B081TJFVCJ  Tobiasz Jedrysiak  Positive   December 24, 2019      True   \n",
       "67985  B0825BB7SG      Owen Gonzalez  Positive   December 11, 2019     False   \n",
       "\n",
       "                                                   title  \\\n",
       "0                            Def not best, but not worst   \n",
       "1                            Text Messaging Doesn't Work   \n",
       "2                                        Love This Phone   \n",
       "3                                Love the Phone, BUT...!   \n",
       "4           Great phone service and options, lousy case!   \n",
       "...                                                  ...   \n",
       "67981  Awesome Phone, but finger scanner is a big mis...   \n",
       "67982                                    Simply Amazing!   \n",
       "67983  great phon3, but many bugs need to fix. still ...   \n",
       "67984                                  Phone is like new   \n",
       "67985                    Outstanding phone for the price   \n",
       "\n",
       "                                                    body helpfulVotes  \n",
       "0      I had the Samsung A600 for awhile which is abs...     Negative  \n",
       "1      Due to a software issue between Nokia and Spri...         17.0  \n",
       "2      This is a great, reliable phone. I also purcha...     Positive  \n",
       "3      I love the phone and all, because I really did...     Negative  \n",
       "4      The phone has been great for every purpose it ...     Negative  \n",
       "...                                                  ...          ...  \n",
       "67981  I love the camera on this phone. The screen is...     Negative  \n",
       "67982  I've been an Xperia user for several years and...     Negative  \n",
       "67983                         buy one more for my cousin          NaN  \n",
       "67984  Product looks and works like new. Very much re...          NaN  \n",
       "67985  I love the size and style of this phone. It is...          NaN  \n",
       "\n",
       "[67986 rows x 8 columns]"
      ]
     },
     "execution_count": 39,
     "metadata": {},
     "output_type": "execute_result"
    }
   ],
   "source": [
    "df"
   ]
  },
  {
   "cell_type": "code",
   "execution_count": 40,
   "id": "0adc8ce1",
   "metadata": {},
   "outputs": [
    {
     "data": {
      "text/plain": [
       "asin                0\n",
       "name                2\n",
       "rating              0\n",
       "date                0\n",
       "verified            0\n",
       "title              14\n",
       "body               21\n",
       "helpfulVotes    40771\n",
       "dtype: int64"
      ]
     },
     "execution_count": 40,
     "metadata": {},
     "output_type": "execute_result"
    }
   ],
   "source": [
    "df.isnull().sum()"
   ]
  },
  {
   "cell_type": "code",
   "execution_count": 41,
   "id": "0375cbc5",
   "metadata": {},
   "outputs": [],
   "source": [
    "df=df.dropna()"
   ]
  },
  {
   "cell_type": "code",
   "execution_count": 45,
   "id": "28e13230",
   "metadata": {},
   "outputs": [
    {
     "data": {
      "text/plain": [
       "<AxesSubplot:xlabel='rating', ylabel='count'>"
      ]
     },
     "execution_count": 45,
     "metadata": {},
     "output_type": "execute_result"
    },
    {
     "data": {
      "image/png": "[encoded data removed]",
      "text/plain": [
       "<Figure size 640x480 with 1 Axes>"
      ]
     },
     "metadata": {},
     "output_type": "display_data"
    }
   ],
   "source": [
    "sns.countplot(data=df,x='rating')"
   ]
  },
  {
   "cell_type": "code",
   "execution_count": 13,
   "id": "90dc7ccd",
   "metadata": {},
   "outputs": [],
   "source": [
    "data = df[['rating','body']]\n"
   ]
  },
  {
   "cell_type": "code",
   "execution_count": 14,
   "id": "6ab335ab",
   "metadata": {},
   "outputs": [
    {
     "data": {
      "text/html": [
       "<div>\n",
       "<style scoped>\n",
       "    .dataframe tbody tr th:only-of-type {\n",
       "        vertical-align: middle;\n",
       "    }\n",
       "\n",
       "    .dataframe tbody tr th {\n",
       "        vertical-align: top;\n",
       "    }\n",
       "\n",
       "    .dataframe thead th {\n",
       "        text-align: right;\n",
       "    }\n",
       "</style>\n",
       "<table border=\"1\" class=\"dataframe\">\n",
       "  <thead>\n",
       "    <tr style=\"text-align: right;\">\n",
       "      <th></th>\n",
       "      <th>rating</th>\n",
       "      <th>body</th>\n",
       "    </tr>\n",
       "  </thead>\n",
       "  <tbody>\n",
       "    <tr>\n",
       "      <th>0</th>\n",
       "      <td>Neutral</td>\n",
       "      <td>I had the Samsung A600 for awhile which is abs...</td>\n",
       "    </tr>\n",
       "    <tr>\n",
       "      <th>1</th>\n",
       "      <td>Negative</td>\n",
       "      <td>Due to a software issue between Nokia and Spri...</td>\n",
       "    </tr>\n",
       "    <tr>\n",
       "      <th>2</th>\n",
       "      <td>Positive</td>\n",
       "      <td>This is a great, reliable phone. I also purcha...</td>\n",
       "    </tr>\n",
       "    <tr>\n",
       "      <th>3</th>\n",
       "      <td>Neutral</td>\n",
       "      <td>I love the phone and all, because I really did...</td>\n",
       "    </tr>\n",
       "    <tr>\n",
       "      <th>4</th>\n",
       "      <td>Positive</td>\n",
       "      <td>The phone has been great for every purpose it ...</td>\n",
       "    </tr>\n",
       "  </tbody>\n",
       "</table>\n",
       "</div>"
      ],
      "text/plain": [
       "     rating                                               body\n",
       "0   Neutral  I had the Samsung A600 for awhile which is abs...\n",
       "1  Negative  Due to a software issue between Nokia and Spri...\n",
       "2  Positive  This is a great, reliable phone. I also purcha...\n",
       "3   Neutral  I love the phone and all, because I really did...\n",
       "4  Positive  The phone has been great for every purpose it ..."
      ]
     },
     "execution_count": 14,
     "metadata": {},
     "output_type": "execute_result"
    }
   ],
   "source": [
    "data.head()"
   ]
  },
  {
   "cell_type": "code",
   "execution_count": 15,
   "id": "d8250454",
   "metadata": {},
   "outputs": [],
   "source": [
    "y = df['rating']\n",
    "X = df['body']"
   ]
  },
  {
   "cell_type": "code",
   "execution_count": 16,
   "id": "d064b096",
   "metadata": {},
   "outputs": [],
   "source": [
    "from sklearn.model_selection import train_test_split"
   ]
  },
  {
   "cell_type": "code",
   "execution_count": 17,
   "id": "a7314031",
   "metadata": {},
   "outputs": [],
   "source": [
    "X_train, X_test, y_train, y_test = train_test_split(X, y, test_size=0.2, random_state=101)"
   ]
  },
  {
   "cell_type": "code",
   "execution_count": 18,
   "id": "300ba3f7",
   "metadata": {},
   "outputs": [],
   "source": [
    "from sklearn.feature_extraction.text import TfidfVectorizer"
   ]
  },
  {
   "cell_type": "code",
   "execution_count": 19,
   "id": "723fbe57",
   "metadata": {},
   "outputs": [],
   "source": [
    "tfidf = TfidfVectorizer(stop_words='english')"
   ]
  },
  {
   "cell_type": "code",
   "execution_count": 20,
   "id": "82e0c7b0",
   "metadata": {},
   "outputs": [
    {
     "data": {
      "text/plain": [
       "TfidfVectorizer(stop_words='english')"
      ]
     },
     "execution_count": 20,
     "metadata": {},
     "output_type": "execute_result"
    }
   ],
   "source": [
    "tfidf.fit(X_train)"
   ]
  },
  {
   "cell_type": "code",
   "execution_count": 21,
   "id": "47585829",
   "metadata": {},
   "outputs": [],
   "source": [
    "X_train_tfidf = tfidf.transform(X_train)\n",
    "X_test_tfidf = tfidf.transform(X_test)"
   ]
  },
  {
   "cell_type": "code",
   "execution_count": 22,
   "id": "7ab2983e",
   "metadata": {},
   "outputs": [
    {
     "data": {
      "text/plain": [
       "<21764x25928 sparse matrix of type '<class 'numpy.float64'>'\n",
       "\twith 738763 stored elements in Compressed Sparse Row format>"
      ]
     },
     "execution_count": 22,
     "metadata": {},
     "output_type": "execute_result"
    }
   ],
   "source": [
    "X_train_tfidf"
   ]
  },
  {
   "cell_type": "code",
   "execution_count": 49,
   "id": "a0159792",
   "metadata": {},
   "outputs": [
    {
     "data": {
      "text/plain": [
       "MultinomialNB()"
      ]
     },
     "execution_count": 49,
     "metadata": {},
     "output_type": "execute_result"
    }
   ],
   "source": [
    "from sklearn.naive_bayes import MultinomialNB\n",
    "nb = MultinomialNB()\n",
    "nb.fit(X_train_tfidf,y_train)"
   ]
  },
  {
   "cell_type": "code",
   "execution_count": 62,
   "id": "de7ee57b",
   "metadata": {},
   "outputs": [
    {
     "data": {
      "text/plain": [
       "LogisticRegression(max_iter=10000)"
      ]
     },
     "execution_count": 62,
     "metadata": {},
     "output_type": "execute_result"
    }
   ],
   "source": [
    "from sklearn.linear_model import LogisticRegression\n",
    "log = LogisticRegression(max_iter=10000)\n",
    "log.fit(X_train_tfidf,y_train)"
   ]
  },
  {
   "cell_type": "code",
   "execution_count": 63,
   "id": "c6719f2a",
   "metadata": {},
   "outputs": [
    {
     "data": {
      "text/plain": [
       "LinearSVC()"
      ]
     },
     "execution_count": 63,
     "metadata": {},
     "output_type": "execute_result"
    }
   ],
   "source": [
    "from sklearn.svm import LinearSVC\n",
    "svc = LinearSVC()\n",
    "svc.fit(X_train_tfidf,y_train)"
   ]
  },
  {
   "cell_type": "code",
   "execution_count": 64,
   "id": "990c0b83",
   "metadata": {},
   "outputs": [],
   "source": [
    "from sklearn.metrics import plot_confusion_matrix,classification_report,accuracy_score"
   ]
  },
  {
   "cell_type": "code",
   "execution_count": 65,
   "id": "3d949298",
   "metadata": {},
   "outputs": [],
   "source": [
    "def report(model):\n",
    "    preds = model.predict(X_test_tfidf)\n",
    "    print(classification_report(y_test,preds))\n",
    "    print(accuracy_score(y_test,preds))\n",
    "    plot_confusion_matrix(model,X_test_tfidf,y_test)"
   ]
  },
  {
   "cell_type": "code",
   "execution_count": 66,
   "id": "6fd196e5",
   "metadata": {},
   "outputs": [
    {
     "name": "stdout",
     "output_type": "stream",
     "text": [
      "SVC\n",
      "              precision    recall  f1-score   support\n",
      "\n",
      "    Negative       0.79      0.85      0.82      1811\n",
      "     Neutral       0.44      0.11      0.17       408\n",
      "    Positive       0.88      0.93      0.90      3223\n",
      "\n",
      "    accuracy                           0.84      5442\n",
      "   macro avg       0.70      0.63      0.63      5442\n",
      "weighted avg       0.82      0.84      0.82      5442\n",
      "\n",
      "0.8401323042998897\n"
     ]
    },
    {
     "name": "stderr",
     "output_type": "stream",
     "text": [
      "C:\\Users\\Admin\\anaconda3\\lib\\site-packages\\sklearn\\utils\\deprecation.py:87: FutureWarning: Function plot_confusion_matrix is deprecated; Function `plot_confusion_matrix` is deprecated in 1.0 and will be removed in 1.2. Use one of the class methods: ConfusionMatrixDisplay.from_predictions or ConfusionMatrixDisplay.from_estimator.\n",
      "  warnings.warn(msg, category=FutureWarning)\n"
     ]
    },
    {
     "data": {
      "image/png": "[encoded data removed]",
      "text/plain": [
       "<Figure size 640x480 with 2 Axes>"
      ]
     },
     "metadata": {},
     "output_type": "display_data"
    }
   ],
   "source": [
    "print('SVC')\n",
    "report(svc)"
   ]
  },
  {
   "cell_type": "code",
   "execution_count": 67,
   "id": "40160c0c",
   "metadata": {},
   "outputs": [
    {
     "name": "stdout",
     "output_type": "stream",
     "text": [
      "NB MODEL\n",
      "              precision    recall  f1-score   support\n",
      "\n",
      "    Negative       0.88      0.59      0.71      1811\n",
      "     Neutral       0.00      0.00      0.00       408\n",
      "    Positive       0.75      0.98      0.85      3223\n",
      "\n",
      "    accuracy                           0.78      5442\n",
      "   macro avg       0.54      0.52      0.52      5442\n",
      "weighted avg       0.74      0.78      0.74      5442\n",
      "\n",
      "0.7783902976846747\n"
     ]
    },
    {
     "name": "stderr",
     "output_type": "stream",
     "text": [
      "C:\\Users\\Admin\\anaconda3\\lib\\site-packages\\sklearn\\metrics\\_classification.py:1318: UndefinedMetricWarning: Precision and F-score are ill-defined and being set to 0.0 in labels with no predicted samples. Use `zero_division` parameter to control this behavior.\n",
      "  _warn_prf(average, modifier, msg_start, len(result))\n",
      "C:\\Users\\Admin\\anaconda3\\lib\\site-packages\\sklearn\\metrics\\_classification.py:1318: UndefinedMetricWarning: Precision and F-score are ill-defined and being set to 0.0 in labels with no predicted samples. Use `zero_division` parameter to control this behavior.\n",
      "  _warn_prf(average, modifier, msg_start, len(result))\n",
      "C:\\Users\\Admin\\anaconda3\\lib\\site-packages\\sklearn\\metrics\\_classification.py:1318: UndefinedMetricWarning: Precision and F-score are ill-defined and being set to 0.0 in labels with no predicted samples. Use `zero_division` parameter to control this behavior.\n",
      "  _warn_prf(average, modifier, msg_start, len(result))\n",
      "C:\\Users\\Admin\\anaconda3\\lib\\site-packages\\sklearn\\utils\\deprecation.py:87: FutureWarning: Function plot_confusion_matrix is deprecated; Function `plot_confusion_matrix` is deprecated in 1.0 and will be removed in 1.2. Use one of the class methods: ConfusionMatrixDisplay.from_predictions or ConfusionMatrixDisplay.from_estimator.\n",
      "  warnings.warn(msg, category=FutureWarning)\n"
     ]
    },
    {
     "data": {
      "image/png": "[encoded data removed]",
      "text/plain": [
       "<Figure size 640x480 with 2 Axes>"
      ]
     },
     "metadata": {},
     "output_type": "display_data"
    }
   ],
   "source": [
    "print(\"NB MODEL\")\n",
    "report(nb)"
   ]
  },
  {
   "cell_type": "code",
   "execution_count": 68,
   "id": "72521476",
   "metadata": {},
   "outputs": [
    {
     "name": "stdout",
     "output_type": "stream",
     "text": [
      "Logistic Regression\n",
      "              precision    recall  f1-score   support\n",
      "\n",
      "    Negative       0.80      0.85      0.83      1811\n",
      "     Neutral       0.39      0.02      0.04       408\n",
      "    Positive       0.87      0.94      0.91      3223\n",
      "\n",
      "    accuracy                           0.84      5442\n",
      "   macro avg       0.69      0.61      0.59      5442\n",
      "weighted avg       0.81      0.84      0.81      5442\n",
      "\n",
      "0.8443586916574789\n"
     ]
    },
    {
     "name": "stderr",
     "output_type": "stream",
     "text": [
      "C:\\Users\\Admin\\anaconda3\\lib\\site-packages\\sklearn\\utils\\deprecation.py:87: FutureWarning: Function plot_confusion_matrix is deprecated; Function `plot_confusion_matrix` is deprecated in 1.0 and will be removed in 1.2. Use one of the class methods: ConfusionMatrixDisplay.from_predictions or ConfusionMatrixDisplay.from_estimator.\n",
      "  warnings.warn(msg, category=FutureWarning)\n"
     ]
    },
    {
     "data": {
      "image/png": "[encoded data removed]",
      "text/plain": [
       "<Figure size 640x480 with 2 Axes>"
      ]
     },
     "metadata": {},
     "output_type": "display_data"
    }
   ],
   "source": [
    "print(\"Logistic Regression\")\n",
    "report(log)"
   ]
  },
  {
   "cell_type": "code",
   "execution_count": 69,
   "id": "eb6166a1",
   "metadata": {},
   "outputs": [],
   "source": [
    "from sklearn.pipeline import Pipeline"
   ]
  },
  {
   "cell_type": "code",
   "execution_count": 72,
   "id": "b8890c39",
   "metadata": {},
   "outputs": [],
   "source": [
    "pipe = Pipeline([('tfidf',TfidfVectorizer()),('svc',LinearSVC())])"
   ]
  },
  {
   "cell_type": "code",
   "execution_count": 73,
   "id": "bcd59d79",
   "metadata": {},
   "outputs": [
    {
     "data": {
      "text/plain": [
       "Pipeline(steps=[('tfidf', TfidfVectorizer()), ('svc', LinearSVC())])"
      ]
     },
     "execution_count": 73,
     "metadata": {},
     "output_type": "execute_result"
    }
   ],
   "source": [
    "pipe.fit(df['body'],df['rating'])"
   ]
  },
  {
   "cell_type": "code",
   "execution_count": 79,
   "id": "26ab3061",
   "metadata": {},
   "outputs": [
    {
     "data": {
      "text/plain": [
       "array(['Negative'], dtype=object)"
      ]
     },
     "execution_count": 79,
     "metadata": {},
     "output_type": "execute_result"
    }
   ],
   "source": [
    "tweet = ['Display is bad']\n",
    "pipe.predict(tweet)"
   ]
  },
  {
   "cell_type": "code",
   "execution_count": null,
   "id": "c75eac2f",
   "metadata": {},
   "outputs": [],
   "source": [
    "\n"
   ]
  },
  {
   "cell_type": "code",
   "execution_count": null,
   "id": "0675cbfc",
   "metadata": {},
   "outputs": [],
   "source": []
  }
 ],
 "metadata": {
  "kernelspec": {
   "display_name": "Python 3 (ipykernel)",
   "language": "python",
   "name": "python3"
  },
  "language_info": {
   "codemirror_mode": {
    "name": "ipython",
    "version": 3
   },
   "file_extension": ".py",
   "mimetype": "text/x-python",
   "name": "python",
   "nbconvert_exporter": "python",
   "pygments_lexer": "ipython3",
   "version": "3.9.13"
  }
 },
 "nbformat": 4,
 "nbformat_minor": 5
}
